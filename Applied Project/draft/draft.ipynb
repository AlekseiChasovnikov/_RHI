{
 "cells": [
  {
   "cell_type": "code",
   "execution_count": 1,
   "id": "831e26ee",
   "metadata": {},
   "outputs": [],
   "source": [
    "import pandas as pd"
   ]
  },
  {
   "cell_type": "code",
   "execution_count": 2,
   "id": "436c3b90",
   "metadata": {},
   "outputs": [],
   "source": [
    "df = pd.read_csv('full_dataset.csv', index_col=0)"
   ]
  },
  {
   "cell_type": "code",
   "execution_count": 3,
   "id": "bdff3b16",
   "metadata": {},
   "outputs": [
    {
     "data": {
      "text/html": [
       "<div>\n",
       "<style scoped>\n",
       "    .dataframe tbody tr th:only-of-type {\n",
       "        vertical-align: middle;\n",
       "    }\n",
       "\n",
       "    .dataframe tbody tr th {\n",
       "        vertical-align: top;\n",
       "    }\n",
       "\n",
       "    .dataframe thead th {\n",
       "        text-align: right;\n",
       "    }\n",
       "</style>\n",
       "<table border=\"1\" class=\"dataframe\">\n",
       "  <thead>\n",
       "    <tr style=\"text-align: right;\">\n",
       "      <th></th>\n",
       "      <th>url</th>\n",
       "      <th>title</th>\n",
       "      <th>location</th>\n",
       "      <th>type</th>\n",
       "      <th>level</th>\n",
       "      <th>salaryRange</th>\n",
       "      <th>salary</th>\n",
       "      <th>company</th>\n",
       "      <th>minSalary</th>\n",
       "      <th>maxSalary</th>\n",
       "      <th>currency</th>\n",
       "      <th>salaryPeriod</th>\n",
       "      <th>position</th>\n",
       "      <th>datePosted</th>\n",
       "      <th>validThrough</th>\n",
       "      <th>jobDescription</th>\n",
       "      <th>skills</th>\n",
       "    </tr>\n",
       "  </thead>\n",
       "  <tbody>\n",
       "    <tr>\n",
       "      <th>0</th>\n",
       "      <td>https://ai-jobs.net/job/32218-data-science-con...</td>\n",
       "      <td>View full details of `Data Science Content Int...</td>\n",
       "      <td>Remote</td>\n",
       "      <td>Internship</td>\n",
       "      <td>Entry-level</td>\n",
       "      <td>USD 9K - 11K</td>\n",
       "      <td>NaN</td>\n",
       "      <td>NannyML</td>\n",
       "      <td>9000.0</td>\n",
       "      <td>11000.0</td>\n",
       "      <td>USD</td>\n",
       "      <td>YEAR</td>\n",
       "      <td>Data Science Content Intern (Remote)</td>\n",
       "      <td>2022-11-09 22:55:46</td>\n",
       "      <td>2022-12-24 00:00:00</td>\n",
       "      <td>Description NannyML - creators of an Open Sour...</td>\n",
       "      <td>['Bayesian', 'Content creation', 'GitHub', 'Ma...</td>\n",
       "    </tr>\n",
       "    <tr>\n",
       "      <th>1</th>\n",
       "      <td>https://ai-jobs.net/job/32029-python-php-senio...</td>\n",
       "      <td>View full details of `Python / PHP Senior Deve...</td>\n",
       "      <td>Remote, EU</td>\n",
       "      <td>Full Time</td>\n",
       "      <td>Senior-level</td>\n",
       "      <td>EUR 65K - 80K</td>\n",
       "      <td>NaN</td>\n",
       "      <td>Beatopia</td>\n",
       "      <td>NaN</td>\n",
       "      <td>NaN</td>\n",
       "      <td>NaN</td>\n",
       "      <td>NaN</td>\n",
       "      <td>NaN</td>\n",
       "      <td>NaN</td>\n",
       "      <td>NaN</td>\n",
       "      <td>NaN</td>\n",
       "      <td>['APIs', 'GCP', 'Google Cloud', 'Machine Learn...</td>\n",
       "    </tr>\n",
       "    <tr>\n",
       "      <th>2</th>\n",
       "      <td>https://ai-jobs.net/job/30723-data-scientist-r...</td>\n",
       "      <td>View full details of `Data Scientist - Researc...</td>\n",
       "      <td>Remote, Hybrid Available (Chicago)</td>\n",
       "      <td>Full Time</td>\n",
       "      <td>Senior-level</td>\n",
       "      <td>USD 55K - 120K</td>\n",
       "      <td>NaN</td>\n",
       "      <td>HFR, Inc.</td>\n",
       "      <td>55000.0</td>\n",
       "      <td>120000.0</td>\n",
       "      <td>USD</td>\n",
       "      <td>YEAR</td>\n",
       "      <td>Data Scientist - Research, Development &amp;amp; C...</td>\n",
       "      <td>2022-10-26 20:46:21</td>\n",
       "      <td>2022-12-10 00:00:00</td>\n",
       "      <td>Company Description:  HFR, Inc. (HFR) was fo...</td>\n",
       "      <td>['Computer Science', 'Data Analytics', 'Data v...</td>\n",
       "    </tr>\n",
       "    <tr>\n",
       "      <th>3</th>\n",
       "      <td>https://ai-jobs.net/job/30166-postdoctoral-res...</td>\n",
       "      <td>View full details of `Postdoctoral Research As...</td>\n",
       "      <td>Oak Ridge, TN, United States</td>\n",
       "      <td>Temporary</td>\n",
       "      <td>Mid-level</td>\n",
       "      <td>NaN</td>\n",
       "      <td>NaN</td>\n",
       "      <td>Oak Ridge National Laboratory</td>\n",
       "      <td>NaN</td>\n",
       "      <td>NaN</td>\n",
       "      <td>NaN</td>\n",
       "      <td>NaN</td>\n",
       "      <td>Postdoctoral Research Associate - Boundary Pla...</td>\n",
       "      <td>2022-10-21 20:53:22</td>\n",
       "      <td>2022-12-05 00:00:00</td>\n",
       "      <td>Overview:  Oak Ridge National Laboratory is th...</td>\n",
       "      <td>['CAD', 'Engineering', 'Matlab', 'Physics', 'P...</td>\n",
       "    </tr>\n",
       "    <tr>\n",
       "      <th>4</th>\n",
       "      <td>https://ai-jobs.net/job/30091-data-science-and...</td>\n",
       "      <td>View full details of `Data Science and Machine...</td>\n",
       "      <td>Remote- USA</td>\n",
       "      <td>Full Time</td>\n",
       "      <td>Senior-level</td>\n",
       "      <td>USD 150K - 200K</td>\n",
       "      <td>NaN</td>\n",
       "      <td>Libertas Funding</td>\n",
       "      <td>150000.0</td>\n",
       "      <td>200000.0</td>\n",
       "      <td>USD</td>\n",
       "      <td>YEAR</td>\n",
       "      <td>Data Science and Machine Learning Manager</td>\n",
       "      <td>2022-10-21 02:15:41</td>\n",
       "      <td>2022-12-05 00:00:00</td>\n",
       "      <td>USA Remote Position POSITION SUMMARY: The Dat...</td>\n",
       "      <td>['Agile', 'Airflow', 'APIs', 'AWS', 'CI/CD', '...</td>\n",
       "    </tr>\n",
       "  </tbody>\n",
       "</table>\n",
       "</div>"
      ],
      "text/plain": [
       "                                                 url  \\\n",
       "0  https://ai-jobs.net/job/32218-data-science-con...   \n",
       "1  https://ai-jobs.net/job/32029-python-php-senio...   \n",
       "2  https://ai-jobs.net/job/30723-data-scientist-r...   \n",
       "3  https://ai-jobs.net/job/30166-postdoctoral-res...   \n",
       "4  https://ai-jobs.net/job/30091-data-science-and...   \n",
       "\n",
       "                                               title  \\\n",
       "0  View full details of `Data Science Content Int...   \n",
       "1  View full details of `Python / PHP Senior Deve...   \n",
       "2  View full details of `Data Scientist - Researc...   \n",
       "3  View full details of `Postdoctoral Research As...   \n",
       "4  View full details of `Data Science and Machine...   \n",
       "\n",
       "                             location        type         level  \\\n",
       "0                              Remote  Internship   Entry-level   \n",
       "1                          Remote, EU   Full Time  Senior-level   \n",
       "2  Remote, Hybrid Available (Chicago)   Full Time  Senior-level   \n",
       "3        Oak Ridge, TN, United States   Temporary     Mid-level   \n",
       "4                         Remote- USA   Full Time  Senior-level   \n",
       "\n",
       "       salaryRange  salary                        company  minSalary  \\\n",
       "0     USD 9K - 11K     NaN                        NannyML     9000.0   \n",
       "1    EUR 65K - 80K     NaN                       Beatopia        NaN   \n",
       "2   USD 55K - 120K     NaN                      HFR, Inc.    55000.0   \n",
       "3              NaN     NaN  Oak Ridge National Laboratory        NaN   \n",
       "4  USD 150K - 200K     NaN               Libertas Funding   150000.0   \n",
       "\n",
       "   maxSalary currency salaryPeriod  \\\n",
       "0    11000.0      USD         YEAR   \n",
       "1        NaN      NaN          NaN   \n",
       "2   120000.0      USD         YEAR   \n",
       "3        NaN      NaN          NaN   \n",
       "4   200000.0      USD         YEAR   \n",
       "\n",
       "                                            position           datePosted  \\\n",
       "0               Data Science Content Intern (Remote)  2022-11-09 22:55:46   \n",
       "1                                                NaN                  NaN   \n",
       "2  Data Scientist - Research, Development &amp; C...  2022-10-26 20:46:21   \n",
       "3  Postdoctoral Research Associate - Boundary Pla...  2022-10-21 20:53:22   \n",
       "4          Data Science and Machine Learning Manager  2022-10-21 02:15:41   \n",
       "\n",
       "          validThrough                                     jobDescription  \\\n",
       "0  2022-12-24 00:00:00  Description NannyML - creators of an Open Sour...   \n",
       "1                  NaN                                                NaN   \n",
       "2  2022-12-10 00:00:00    Company Description:  HFR, Inc. (HFR) was fo...   \n",
       "3  2022-12-05 00:00:00  Overview:  Oak Ridge National Laboratory is th...   \n",
       "4  2022-12-05 00:00:00   USA Remote Position POSITION SUMMARY: The Dat...   \n",
       "\n",
       "                                              skills  \n",
       "0  ['Bayesian', 'Content creation', 'GitHub', 'Ma...  \n",
       "1  ['APIs', 'GCP', 'Google Cloud', 'Machine Learn...  \n",
       "2  ['Computer Science', 'Data Analytics', 'Data v...  \n",
       "3  ['CAD', 'Engineering', 'Matlab', 'Physics', 'P...  \n",
       "4  ['Agile', 'Airflow', 'APIs', 'AWS', 'CI/CD', '...  "
      ]
     },
     "execution_count": 3,
     "metadata": {},
     "output_type": "execute_result"
    }
   ],
   "source": [
    "df.head()"
   ]
  },
  {
   "cell_type": "code",
   "execution_count": 23,
   "id": "d6eab28c",
   "metadata": {},
   "outputs": [
    {
     "data": {
      "text/plain": [
       "url               3754\n",
       "title             3754\n",
       "location          3754\n",
       "type              3754\n",
       "level             3463\n",
       "salaryRange       1981\n",
       "salary               0\n",
       "company           3754\n",
       "minSalary         1913\n",
       "maxSalary         1913\n",
       "currency          1913\n",
       "salaryPeriod      1913\n",
       "position          3719\n",
       "datePosted        3719\n",
       "validThrough      3719\n",
       "jobDescription    3719\n",
       "skills            3754\n",
       "dtype: int64"
      ]
     },
     "execution_count": 23,
     "metadata": {},
     "output_type": "execute_result"
    }
   ],
   "source": [
    "df.count()"
   ]
  },
  {
   "cell_type": "markdown",
   "id": "97079590",
   "metadata": {},
   "source": [
    "1981 вакансия с зарплатой (проверить в тексте ещё мб)"
   ]
  },
  {
   "cell_type": "code",
   "execution_count": 24,
   "id": "c938aada",
   "metadata": {
    "scrolled": true
   },
   "outputs": [
    {
     "data": {
      "text/html": [
       "<div>\n",
       "<style scoped>\n",
       "    .dataframe tbody tr th:only-of-type {\n",
       "        vertical-align: middle;\n",
       "    }\n",
       "\n",
       "    .dataframe tbody tr th {\n",
       "        vertical-align: top;\n",
       "    }\n",
       "\n",
       "    .dataframe thead th {\n",
       "        text-align: right;\n",
       "    }\n",
       "</style>\n",
       "<table border=\"1\" class=\"dataframe\">\n",
       "  <thead>\n",
       "    <tr style=\"text-align: right;\">\n",
       "      <th></th>\n",
       "      <th>url</th>\n",
       "      <th>title</th>\n",
       "      <th>location</th>\n",
       "      <th>type</th>\n",
       "      <th>level</th>\n",
       "      <th>salaryRange</th>\n",
       "      <th>salary</th>\n",
       "      <th>company</th>\n",
       "      <th>minSalary</th>\n",
       "      <th>maxSalary</th>\n",
       "      <th>currency</th>\n",
       "      <th>salaryPeriod</th>\n",
       "      <th>position</th>\n",
       "      <th>datePosted</th>\n",
       "      <th>validThrough</th>\n",
       "      <th>jobDescription</th>\n",
       "      <th>skills</th>\n",
       "    </tr>\n",
       "  </thead>\n",
       "  <tbody>\n",
       "    <tr>\n",
       "      <th>1</th>\n",
       "      <td>https://ai-jobs.net/job/32029-python-php-senio...</td>\n",
       "      <td>View full details of `Python / PHP Senior Deve...</td>\n",
       "      <td>Remote, EU</td>\n",
       "      <td>Full Time</td>\n",
       "      <td>Senior-level</td>\n",
       "      <td>EUR 65K - 80K</td>\n",
       "      <td>NaN</td>\n",
       "      <td>Beatopia</td>\n",
       "      <td>NaN</td>\n",
       "      <td>NaN</td>\n",
       "      <td>NaN</td>\n",
       "      <td>NaN</td>\n",
       "      <td>NaN</td>\n",
       "      <td>NaN</td>\n",
       "      <td>NaN</td>\n",
       "      <td>NaN</td>\n",
       "      <td>['APIs', 'GCP', 'Google Cloud', 'Machine Learn...</td>\n",
       "    </tr>\n",
       "    <tr>\n",
       "      <th>735</th>\n",
       "      <td>https://ai-jobs.net/job/32473-senior-data-anal...</td>\n",
       "      <td>View full details of `Senior Data Analyst - St...</td>\n",
       "      <td>Sydney, New South Wales, Australia</td>\n",
       "      <td>Full Time</td>\n",
       "      <td>Senior-level</td>\n",
       "      <td>USD 46K - 85K *</td>\n",
       "      <td>NaN</td>\n",
       "      <td>Canva</td>\n",
       "      <td>NaN</td>\n",
       "      <td>NaN</td>\n",
       "      <td>NaN</td>\n",
       "      <td>NaN</td>\n",
       "      <td>NaN</td>\n",
       "      <td>NaN</td>\n",
       "      <td>NaN</td>\n",
       "      <td>NaN</td>\n",
       "      <td>['Mathematics', 'Nonprofit', 'Python', 'SQL', ...</td>\n",
       "    </tr>\n",
       "    <tr>\n",
       "      <th>861</th>\n",
       "      <td>https://ai-jobs.net/job/32274-senior-product-m...</td>\n",
       "      <td>View full details of `Senior Product Manager, ...</td>\n",
       "      <td>Canada</td>\n",
       "      <td>Full Time</td>\n",
       "      <td>Senior-level</td>\n",
       "      <td>USD 76K - 150K *</td>\n",
       "      <td>NaN</td>\n",
       "      <td>Mattermost</td>\n",
       "      <td>NaN</td>\n",
       "      <td>NaN</td>\n",
       "      <td>NaN</td>\n",
       "      <td>NaN</td>\n",
       "      <td>NaN</td>\n",
       "      <td>NaN</td>\n",
       "      <td>NaN</td>\n",
       "      <td>NaN</td>\n",
       "      <td>['Agile', 'Data Analytics', 'Engineering', 'Lo...</td>\n",
       "    </tr>\n",
       "    <tr>\n",
       "      <th>1027</th>\n",
       "      <td>https://ai-jobs.net/job/32098-machine-learning...</td>\n",
       "      <td>View full details of `Machine Learning Enginee...</td>\n",
       "      <td>United States, San Francisco, CA</td>\n",
       "      <td>Internship</td>\n",
       "      <td>Senior-level</td>\n",
       "      <td>USD 45K - 150K *</td>\n",
       "      <td>NaN</td>\n",
       "      <td>PlayStation Global</td>\n",
       "      <td>NaN</td>\n",
       "      <td>NaN</td>\n",
       "      <td>NaN</td>\n",
       "      <td>NaN</td>\n",
       "      <td>NaN</td>\n",
       "      <td>NaN</td>\n",
       "      <td>NaN</td>\n",
       "      <td>NaN</td>\n",
       "      <td>['AI strategy', 'Engineering', 'Machine Learni...</td>\n",
       "    </tr>\n",
       "    <tr>\n",
       "      <th>1090</th>\n",
       "      <td>https://ai-jobs.net/job/32155-data-analyst/</td>\n",
       "      <td>View full details of `Data Analyst` vacancy</td>\n",
       "      <td>Tegucigalpa, Francisco Morazán Department, Hon...</td>\n",
       "      <td>Full Time</td>\n",
       "      <td>Mid-level</td>\n",
       "      <td>USD 51K - 90K *</td>\n",
       "      <td>NaN</td>\n",
       "      <td>24-7 Intouch</td>\n",
       "      <td>NaN</td>\n",
       "      <td>NaN</td>\n",
       "      <td>NaN</td>\n",
       "      <td>NaN</td>\n",
       "      <td>NaN</td>\n",
       "      <td>NaN</td>\n",
       "      <td>NaN</td>\n",
       "      <td>NaN</td>\n",
       "      <td>['Computer Science', 'Data analysis', 'Data ma...</td>\n",
       "    </tr>\n",
       "    <tr>\n",
       "      <th>...</th>\n",
       "      <td>...</td>\n",
       "      <td>...</td>\n",
       "      <td>...</td>\n",
       "      <td>...</td>\n",
       "      <td>...</td>\n",
       "      <td>...</td>\n",
       "      <td>...</td>\n",
       "      <td>...</td>\n",
       "      <td>...</td>\n",
       "      <td>...</td>\n",
       "      <td>...</td>\n",
       "      <td>...</td>\n",
       "      <td>...</td>\n",
       "      <td>...</td>\n",
       "      <td>...</td>\n",
       "      <td>...</td>\n",
       "      <td>...</td>\n",
       "    </tr>\n",
       "    <tr>\n",
       "      <th>3745</th>\n",
       "      <td>https://ai-jobs.net/job/29137-machine-learning...</td>\n",
       "      <td>View full details of `Machine Learning Enginee...</td>\n",
       "      <td>Remote, USA</td>\n",
       "      <td>Full Time</td>\n",
       "      <td>Senior-level</td>\n",
       "      <td>USD 45K - 150K *</td>\n",
       "      <td>NaN</td>\n",
       "      <td>Addepar</td>\n",
       "      <td>NaN</td>\n",
       "      <td>NaN</td>\n",
       "      <td>NaN</td>\n",
       "      <td>NaN</td>\n",
       "      <td>Machine Learning Engineer</td>\n",
       "      <td>2022-10-05 02:32:12</td>\n",
       "      <td>2022-11-19 00:00:00</td>\n",
       "      <td>Who We Are Addepar’s purpose is to maximize th...</td>\n",
       "      <td>['AWS', 'Computer Science', 'FinTech', 'GCP', ...</td>\n",
       "    </tr>\n",
       "    <tr>\n",
       "      <th>3747</th>\n",
       "      <td>https://ai-jobs.net/job/29176-data-analyst/</td>\n",
       "      <td>View full details of `Data Analyst` vacancy</td>\n",
       "      <td>Kochi, India</td>\n",
       "      <td>Full Time</td>\n",
       "      <td>Senior-level</td>\n",
       "      <td>USD 50K - 85K *</td>\n",
       "      <td>NaN</td>\n",
       "      <td>Nielsen</td>\n",
       "      <td>NaN</td>\n",
       "      <td>NaN</td>\n",
       "      <td>NaN</td>\n",
       "      <td>NaN</td>\n",
       "      <td>Data Analyst</td>\n",
       "      <td>2022-10-05 02:05:49</td>\n",
       "      <td>2022-11-19 00:00:00</td>\n",
       "      <td>Our business is centered on data, because it’s...</td>\n",
       "      <td>['Agile', 'Causal inference', 'Computer Scienc...</td>\n",
       "    </tr>\n",
       "    <tr>\n",
       "      <th>3748</th>\n",
       "      <td>https://ai-jobs.net/job/29170-data-analyst/</td>\n",
       "      <td>View full details of `Data Analyst` vacancy</td>\n",
       "      <td>Remote - US</td>\n",
       "      <td>Full Time</td>\n",
       "      <td>NaN</td>\n",
       "      <td>USD 50K - 85K *</td>\n",
       "      <td>NaN</td>\n",
       "      <td>Wattpad</td>\n",
       "      <td>NaN</td>\n",
       "      <td>NaN</td>\n",
       "      <td>NaN</td>\n",
       "      <td>NaN</td>\n",
       "      <td>Data Analyst</td>\n",
       "      <td>2022-10-05 01:57:48</td>\n",
       "      <td>2022-11-19 00:00:00</td>\n",
       "      <td>As the global leader and pioneer of the mobile...</td>\n",
       "      <td>['Data Analytics', 'Pipelines', 'SQL']</td>\n",
       "    </tr>\n",
       "    <tr>\n",
       "      <th>3750</th>\n",
       "      <td>https://ai-jobs.net/job/29185-job-8581-data-en...</td>\n",
       "      <td>View full details of `[Job- 8581] Data Enginee...</td>\n",
       "      <td>Brazil</td>\n",
       "      <td>Full Time</td>\n",
       "      <td>Senior-level</td>\n",
       "      <td>USD 76K - 150K *</td>\n",
       "      <td>NaN</td>\n",
       "      <td>CI&amp;T</td>\n",
       "      <td>NaN</td>\n",
       "      <td>NaN</td>\n",
       "      <td>NaN</td>\n",
       "      <td>NaN</td>\n",
       "      <td>[Job- 8581] Data Engineer Pleno</td>\n",
       "      <td>2022-10-05 01:41:53</td>\n",
       "      <td>2022-11-19 00:00:00</td>\n",
       "      <td>CI&amp;amp;amp;T é uma digital specialist, parceir...</td>\n",
       "      <td>['Airflow', 'Dataproc', 'ELT', 'ETL', 'GCP', '...</td>\n",
       "    </tr>\n",
       "    <tr>\n",
       "      <th>3751</th>\n",
       "      <td>https://ai-jobs.net/job/29144-research-scienti...</td>\n",
       "      <td>View full details of `Research Scientist in ML...</td>\n",
       "      <td>Remote Hybrid</td>\n",
       "      <td>Full Time</td>\n",
       "      <td>Senior-level</td>\n",
       "      <td>USD 56K - 96K *</td>\n",
       "      <td>NaN</td>\n",
       "      <td>The Allen Institute for AI</td>\n",
       "      <td>NaN</td>\n",
       "      <td>NaN</td>\n",
       "      <td>NaN</td>\n",
       "      <td>NaN</td>\n",
       "      <td>Research Scientist in ML for Climate Modeling</td>\n",
       "      <td>2022-10-05 01:20:29</td>\n",
       "      <td>2022-11-19 00:00:00</td>\n",
       "      <td>Remote hybrid: Persons in these roles are expe...</td>\n",
       "      <td>['Machine Learning', 'Mathematics', 'NLP', 'Py...</td>\n",
       "    </tr>\n",
       "  </tbody>\n",
       "</table>\n",
       "<p>68 rows × 17 columns</p>\n",
       "</div>"
      ],
      "text/plain": [
       "                                                    url  \\\n",
       "1     https://ai-jobs.net/job/32029-python-php-senio...   \n",
       "735   https://ai-jobs.net/job/32473-senior-data-anal...   \n",
       "861   https://ai-jobs.net/job/32274-senior-product-m...   \n",
       "1027  https://ai-jobs.net/job/32098-machine-learning...   \n",
       "1090        https://ai-jobs.net/job/32155-data-analyst/   \n",
       "...                                                 ...   \n",
       "3745  https://ai-jobs.net/job/29137-machine-learning...   \n",
       "3747        https://ai-jobs.net/job/29176-data-analyst/   \n",
       "3748        https://ai-jobs.net/job/29170-data-analyst/   \n",
       "3750  https://ai-jobs.net/job/29185-job-8581-data-en...   \n",
       "3751  https://ai-jobs.net/job/29144-research-scienti...   \n",
       "\n",
       "                                                  title  \\\n",
       "1     View full details of `Python / PHP Senior Deve...   \n",
       "735   View full details of `Senior Data Analyst - St...   \n",
       "861   View full details of `Senior Product Manager, ...   \n",
       "1027  View full details of `Machine Learning Enginee...   \n",
       "1090        View full details of `Data Analyst` vacancy   \n",
       "...                                                 ...   \n",
       "3745  View full details of `Machine Learning Enginee...   \n",
       "3747        View full details of `Data Analyst` vacancy   \n",
       "3748        View full details of `Data Analyst` vacancy   \n",
       "3750  View full details of `[Job- 8581] Data Enginee...   \n",
       "3751  View full details of `Research Scientist in ML...   \n",
       "\n",
       "                                               location        type  \\\n",
       "1                                            Remote, EU   Full Time   \n",
       "735                  Sydney, New South Wales, Australia   Full Time   \n",
       "861                                              Canada   Full Time   \n",
       "1027                   United States, San Francisco, CA  Internship   \n",
       "1090  Tegucigalpa, Francisco Morazán Department, Hon...   Full Time   \n",
       "...                                                 ...         ...   \n",
       "3745                                        Remote, USA   Full Time   \n",
       "3747                                       Kochi, India   Full Time   \n",
       "3748                                        Remote - US   Full Time   \n",
       "3750                                             Brazil   Full Time   \n",
       "3751                                      Remote Hybrid   Full Time   \n",
       "\n",
       "             level       salaryRange  salary                     company  \\\n",
       "1     Senior-level     EUR 65K - 80K     NaN                    Beatopia   \n",
       "735   Senior-level   USD 46K - 85K *     NaN                       Canva   \n",
       "861   Senior-level  USD 76K - 150K *     NaN                  Mattermost   \n",
       "1027  Senior-level  USD 45K - 150K *     NaN          PlayStation Global   \n",
       "1090     Mid-level   USD 51K - 90K *     NaN                24-7 Intouch   \n",
       "...            ...               ...     ...                         ...   \n",
       "3745  Senior-level  USD 45K - 150K *     NaN                     Addepar   \n",
       "3747  Senior-level   USD 50K - 85K *     NaN                     Nielsen   \n",
       "3748           NaN   USD 50K - 85K *     NaN                     Wattpad   \n",
       "3750  Senior-level  USD 76K - 150K *     NaN                        CI&T   \n",
       "3751  Senior-level   USD 56K - 96K *     NaN  The Allen Institute for AI   \n",
       "\n",
       "      minSalary  maxSalary currency salaryPeriod  \\\n",
       "1           NaN        NaN      NaN          NaN   \n",
       "735         NaN        NaN      NaN          NaN   \n",
       "861         NaN        NaN      NaN          NaN   \n",
       "1027        NaN        NaN      NaN          NaN   \n",
       "1090        NaN        NaN      NaN          NaN   \n",
       "...         ...        ...      ...          ...   \n",
       "3745        NaN        NaN      NaN          NaN   \n",
       "3747        NaN        NaN      NaN          NaN   \n",
       "3748        NaN        NaN      NaN          NaN   \n",
       "3750        NaN        NaN      NaN          NaN   \n",
       "3751        NaN        NaN      NaN          NaN   \n",
       "\n",
       "                                           position           datePosted  \\\n",
       "1                                               NaN                  NaN   \n",
       "735                                             NaN                  NaN   \n",
       "861                                             NaN                  NaN   \n",
       "1027                                            NaN                  NaN   \n",
       "1090                                            NaN                  NaN   \n",
       "...                                             ...                  ...   \n",
       "3745                      Machine Learning Engineer  2022-10-05 02:32:12   \n",
       "3747                                   Data Analyst  2022-10-05 02:05:49   \n",
       "3748                                   Data Analyst  2022-10-05 01:57:48   \n",
       "3750                [Job- 8581] Data Engineer Pleno  2022-10-05 01:41:53   \n",
       "3751  Research Scientist in ML for Climate Modeling  2022-10-05 01:20:29   \n",
       "\n",
       "             validThrough                                     jobDescription  \\\n",
       "1                     NaN                                                NaN   \n",
       "735                   NaN                                                NaN   \n",
       "861                   NaN                                                NaN   \n",
       "1027                  NaN                                                NaN   \n",
       "1090                  NaN                                                NaN   \n",
       "...                   ...                                                ...   \n",
       "3745  2022-11-19 00:00:00  Who We Are Addepar’s purpose is to maximize th...   \n",
       "3747  2022-11-19 00:00:00  Our business is centered on data, because it’s...   \n",
       "3748  2022-11-19 00:00:00  As the global leader and pioneer of the mobile...   \n",
       "3750  2022-11-19 00:00:00  CI&amp;amp;T é uma digital specialist, parceir...   \n",
       "3751  2022-11-19 00:00:00  Remote hybrid: Persons in these roles are expe...   \n",
       "\n",
       "                                                 skills  \n",
       "1     ['APIs', 'GCP', 'Google Cloud', 'Machine Learn...  \n",
       "735   ['Mathematics', 'Nonprofit', 'Python', 'SQL', ...  \n",
       "861   ['Agile', 'Data Analytics', 'Engineering', 'Lo...  \n",
       "1027  ['AI strategy', 'Engineering', 'Machine Learni...  \n",
       "1090  ['Computer Science', 'Data analysis', 'Data ma...  \n",
       "...                                                 ...  \n",
       "3745  ['AWS', 'Computer Science', 'FinTech', 'GCP', ...  \n",
       "3747  ['Agile', 'Causal inference', 'Computer Scienc...  \n",
       "3748             ['Data Analytics', 'Pipelines', 'SQL']  \n",
       "3750  ['Airflow', 'Dataproc', 'ELT', 'ETL', 'GCP', '...  \n",
       "3751  ['Machine Learning', 'Mathematics', 'NLP', 'Py...  \n",
       "\n",
       "[68 rows x 17 columns]"
      ]
     },
     "execution_count": 24,
     "metadata": {},
     "output_type": "execute_result"
    }
   ],
   "source": [
    "# где-то заскрейпилась вилка в текстовом формате, но не заскрейпились числовые значения -> преобразовать\n",
    "df[(~df.salaryRange.isna())&(df.minSalary.isna())]"
   ]
  },
  {
   "cell_type": "markdown",
   "id": "8f76c9b1",
   "metadata": {},
   "source": [
    "## Salary"
   ]
  },
  {
   "cell_type": "markdown",
   "id": "cae9a901",
   "metadata": {},
   "source": [
    "ПЕРЕВЕСТИ В USD"
   ]
  },
  {
   "cell_type": "code",
   "execution_count": 4,
   "id": "cab353c8",
   "metadata": {
    "scrolled": true
   },
   "outputs": [
    {
     "name": "stderr",
     "output_type": "stream",
     "text": [
      "/opt/conda/lib/python3.9/site-packages/scipy/__init__.py:146: UserWarning: A NumPy version >=1.16.5 and <1.23.0 is required for this version of SciPy (detected version 1.23.5\n",
      "  warnings.warn(f\"A NumPy version >={np_minversion} and <{np_maxversion}\"\n"
     ]
    }
   ],
   "source": [
    "import seaborn as sns"
   ]
  },
  {
   "cell_type": "code",
   "execution_count": 43,
   "id": "057699a9",
   "metadata": {},
   "outputs": [
    {
     "data": {
      "text/html": [
       "<div>\n",
       "<style scoped>\n",
       "    .dataframe tbody tr th:only-of-type {\n",
       "        vertical-align: middle;\n",
       "    }\n",
       "\n",
       "    .dataframe tbody tr th {\n",
       "        vertical-align: top;\n",
       "    }\n",
       "\n",
       "    .dataframe thead th {\n",
       "        text-align: right;\n",
       "    }\n",
       "</style>\n",
       "<table border=\"1\" class=\"dataframe\">\n",
       "  <thead>\n",
       "    <tr style=\"text-align: right;\">\n",
       "      <th></th>\n",
       "      <th>min</th>\n",
       "      <th>mean</th>\n",
       "      <th>max</th>\n",
       "    </tr>\n",
       "    <tr>\n",
       "      <th>level</th>\n",
       "      <th></th>\n",
       "      <th></th>\n",
       "      <th></th>\n",
       "    </tr>\n",
       "  </thead>\n",
       "  <tbody>\n",
       "    <tr>\n",
       "      <th>Entry-level</th>\n",
       "      <td>50000.0</td>\n",
       "      <td>79178.900000</td>\n",
       "      <td>180000.0</td>\n",
       "    </tr>\n",
       "    <tr>\n",
       "      <th>Executive-level</th>\n",
       "      <td>85000.0</td>\n",
       "      <td>154936.370370</td>\n",
       "      <td>310000.0</td>\n",
       "    </tr>\n",
       "    <tr>\n",
       "      <th>Mid-level</th>\n",
       "      <td>70000.0</td>\n",
       "      <td>106538.847368</td>\n",
       "      <td>300000.0</td>\n",
       "    </tr>\n",
       "    <tr>\n",
       "      <th>Senior-level</th>\n",
       "      <td>45000.0</td>\n",
       "      <td>141273.424704</td>\n",
       "      <td>350000.0</td>\n",
       "    </tr>\n",
       "  </tbody>\n",
       "</table>\n",
       "</div>"
      ],
      "text/plain": [
       "                     min           mean       max\n",
       "level                                            \n",
       "Entry-level      50000.0   79178.900000  180000.0\n",
       "Executive-level  85000.0  154936.370370  310000.0\n",
       "Mid-level        70000.0  106538.847368  300000.0\n",
       "Senior-level     45000.0  141273.424704  350000.0"
      ]
     },
     "execution_count": 43,
     "metadata": {},
     "output_type": "execute_result"
    }
   ],
   "source": [
    "df[(~df.level.isna())&(df.type=='Full Time')].groupby(by='level').maxSalary.agg(['min', 'mean', 'max'])"
   ]
  },
  {
   "cell_type": "code",
   "execution_count": 42,
   "id": "bf9a94c6",
   "metadata": {},
   "outputs": [
    {
     "data": {
      "text/plain": [
       "<seaborn.axisgrid.FacetGrid at 0x7efc4c3b44f0>"
      ]
     },
     "execution_count": 42,
     "metadata": {},
     "output_type": "execute_result"
    },
    {
     "data": {
      "image/png": "[encoded data removed]",
      "text/plain": [
       "<Figure size 472.125x360 with 1 Axes>"
      ]
     },
     "metadata": {
      "needs_background": "light"
     },
     "output_type": "display_data"
    }
   ],
   "source": [
    "sns.displot(data=df[(~df.level.isna())&(df.type=='Full Time')], x=\"maxSalary\", hue=\"level\", kind=\"kde\")"
   ]
  },
  {
   "cell_type": "code",
   "execution_count": 39,
   "id": "02e50b18",
   "metadata": {},
   "outputs": [
    {
     "data": {
      "text/plain": [
       "<AxesSubplot: xlabel='level', ylabel='maxSalary'>"
      ]
     },
     "execution_count": 39,
     "metadata": {},
     "output_type": "execute_result"
    },
    {
     "data": {
      "image/png": "[encoded data removed]",
      "text/plain": [
       "<Figure size 432x288 with 1 Axes>"
      ]
     },
     "metadata": {
      "needs_background": "light"
     },
     "output_type": "display_data"
    }
   ],
   "source": [
    "sns.stripplot(data=df[(~df.level.isna())&(df.type=='Full Time')], x=\"level\", y=\"maxSalary\", hue=\"level\", legend=False)"
   ]
  },
  {
   "cell_type": "code",
   "execution_count": 40,
   "id": "9c27b8cb",
   "metadata": {
    "scrolled": true
   },
   "outputs": [
    {
     "data": {
      "text/plain": [
       "<AxesSubplot: xlabel='level', ylabel='maxSalary'>"
      ]
     },
     "execution_count": 40,
     "metadata": {},
     "output_type": "execute_result"
    },
    {
     "data": {
      "image/png": "[encoded data removed]",
      "text/plain": [
       "<Figure size 432x288 with 1 Axes>"
      ]
     },
     "metadata": {
      "needs_background": "light"
     },
     "output_type": "display_data"
    }
   ],
   "source": [
    "sns.violinplot(data=df[(~df.level.isna())&(df.type=='Full Time')], x=\"level\", y=\"maxSalary\")"
   ]
  },
  {
   "cell_type": "markdown",
   "id": "2a538d1c",
   "metadata": {},
   "source": [
    "## Skillset \"breadth\""
   ]
  },
  {
   "cell_type": "code",
   "execution_count": 13,
   "id": "d01980f8",
   "metadata": {},
   "outputs": [],
   "source": [
    "df.skills = df['skills'].apply(eval)"
   ]
  },
  {
   "cell_type": "code",
   "execution_count": 16,
   "id": "5378ca50",
   "metadata": {},
   "outputs": [],
   "source": [
    "df['nSkills'] = 0"
   ]
  },
  {
   "cell_type": "code",
   "execution_count": 21,
   "id": "378f45bf",
   "metadata": {},
   "outputs": [],
   "source": [
    "nSkills = []\n",
    "for i in range(0, 3754):\n",
    "    nSkills.append(len(df.iloc[i]['skills'])) "
   ]
  },
  {
   "cell_type": "code",
   "execution_count": 22,
   "id": "778b6fc1",
   "metadata": {},
   "outputs": [],
   "source": [
    "df['nSkills'] = nSkills"
   ]
  },
  {
   "cell_type": "code",
   "execution_count": 24,
   "id": "a531c092",
   "metadata": {
    "scrolled": true
   },
   "outputs": [
    {
     "data": {
      "text/html": [
       "<div>\n",
       "<style scoped>\n",
       "    .dataframe tbody tr th:only-of-type {\n",
       "        vertical-align: middle;\n",
       "    }\n",
       "\n",
       "    .dataframe tbody tr th {\n",
       "        vertical-align: top;\n",
       "    }\n",
       "\n",
       "    .dataframe thead th {\n",
       "        text-align: right;\n",
       "    }\n",
       "</style>\n",
       "<table border=\"1\" class=\"dataframe\">\n",
       "  <thead>\n",
       "    <tr style=\"text-align: right;\">\n",
       "      <th></th>\n",
       "      <th>url</th>\n",
       "      <th>title</th>\n",
       "      <th>location</th>\n",
       "      <th>type</th>\n",
       "      <th>level</th>\n",
       "      <th>salaryRange</th>\n",
       "      <th>salary</th>\n",
       "      <th>company</th>\n",
       "      <th>minSalary</th>\n",
       "      <th>maxSalary</th>\n",
       "      <th>currency</th>\n",
       "      <th>salaryPeriod</th>\n",
       "      <th>position</th>\n",
       "      <th>datePosted</th>\n",
       "      <th>validThrough</th>\n",
       "      <th>jobDescription</th>\n",
       "      <th>skills</th>\n",
       "      <th>nSkills</th>\n",
       "    </tr>\n",
       "  </thead>\n",
       "  <tbody>\n",
       "    <tr>\n",
       "      <th>0</th>\n",
       "      <td>https://ai-jobs.net/job/32218-data-science-con...</td>\n",
       "      <td>View full details of `Data Science Content Int...</td>\n",
       "      <td>Remote</td>\n",
       "      <td>Internship</td>\n",
       "      <td>Entry-level</td>\n",
       "      <td>USD 9K - 11K</td>\n",
       "      <td>NaN</td>\n",
       "      <td>NannyML</td>\n",
       "      <td>9000.0</td>\n",
       "      <td>11000.0</td>\n",
       "      <td>USD</td>\n",
       "      <td>YEAR</td>\n",
       "      <td>Data Science Content Intern (Remote)</td>\n",
       "      <td>2022-11-09 22:55:46</td>\n",
       "      <td>2022-12-24 00:00:00</td>\n",
       "      <td>Description NannyML - creators of an Open Sour...</td>\n",
       "      <td>[Bayesian, Content creation, GitHub, Machine L...</td>\n",
       "      <td>12</td>\n",
       "    </tr>\n",
       "    <tr>\n",
       "      <th>1</th>\n",
       "      <td>https://ai-jobs.net/job/32029-python-php-senio...</td>\n",
       "      <td>View full details of `Python / PHP Senior Deve...</td>\n",
       "      <td>Remote, EU</td>\n",
       "      <td>Full Time</td>\n",
       "      <td>Senior-level</td>\n",
       "      <td>EUR 65K - 80K</td>\n",
       "      <td>NaN</td>\n",
       "      <td>Beatopia</td>\n",
       "      <td>NaN</td>\n",
       "      <td>NaN</td>\n",
       "      <td>NaN</td>\n",
       "      <td>NaN</td>\n",
       "      <td>NaN</td>\n",
       "      <td>NaN</td>\n",
       "      <td>NaN</td>\n",
       "      <td>NaN</td>\n",
       "      <td>[APIs, GCP, Google Cloud, Machine Learning, PH...</td>\n",
       "      <td>7</td>\n",
       "    </tr>\n",
       "    <tr>\n",
       "      <th>2</th>\n",
       "      <td>https://ai-jobs.net/job/30723-data-scientist-r...</td>\n",
       "      <td>View full details of `Data Scientist - Researc...</td>\n",
       "      <td>Remote, Hybrid Available (Chicago)</td>\n",
       "      <td>Full Time</td>\n",
       "      <td>Senior-level</td>\n",
       "      <td>USD 55K - 120K</td>\n",
       "      <td>NaN</td>\n",
       "      <td>HFR, Inc.</td>\n",
       "      <td>55000.0</td>\n",
       "      <td>120000.0</td>\n",
       "      <td>USD</td>\n",
       "      <td>YEAR</td>\n",
       "      <td>Data Scientist - Research, Development &amp;amp; C...</td>\n",
       "      <td>2022-10-26 20:46:21</td>\n",
       "      <td>2022-12-10 00:00:00</td>\n",
       "      <td>Company Description:  HFR, Inc. (HFR) was fo...</td>\n",
       "      <td>[Computer Science, Data Analytics, Data visual...</td>\n",
       "      <td>14</td>\n",
       "    </tr>\n",
       "    <tr>\n",
       "      <th>3</th>\n",
       "      <td>https://ai-jobs.net/job/30166-postdoctoral-res...</td>\n",
       "      <td>View full details of `Postdoctoral Research As...</td>\n",
       "      <td>Oak Ridge, TN, United States</td>\n",
       "      <td>Temporary</td>\n",
       "      <td>Mid-level</td>\n",
       "      <td>NaN</td>\n",
       "      <td>NaN</td>\n",
       "      <td>Oak Ridge National Laboratory</td>\n",
       "      <td>NaN</td>\n",
       "      <td>NaN</td>\n",
       "      <td>NaN</td>\n",
       "      <td>NaN</td>\n",
       "      <td>Postdoctoral Research Associate - Boundary Pla...</td>\n",
       "      <td>2022-10-21 20:53:22</td>\n",
       "      <td>2022-12-05 00:00:00</td>\n",
       "      <td>Overview:  Oak Ridge National Laboratory is th...</td>\n",
       "      <td>[CAD, Engineering, Matlab, Physics, Python, Re...</td>\n",
       "      <td>7</td>\n",
       "    </tr>\n",
       "    <tr>\n",
       "      <th>4</th>\n",
       "      <td>https://ai-jobs.net/job/30091-data-science-and...</td>\n",
       "      <td>View full details of `Data Science and Machine...</td>\n",
       "      <td>Remote- USA</td>\n",
       "      <td>Full Time</td>\n",
       "      <td>Senior-level</td>\n",
       "      <td>USD 150K - 200K</td>\n",
       "      <td>NaN</td>\n",
       "      <td>Libertas Funding</td>\n",
       "      <td>150000.0</td>\n",
       "      <td>200000.0</td>\n",
       "      <td>USD</td>\n",
       "      <td>YEAR</td>\n",
       "      <td>Data Science and Machine Learning Manager</td>\n",
       "      <td>2022-10-21 02:15:41</td>\n",
       "      <td>2022-12-05 00:00:00</td>\n",
       "      <td>USA Remote Position POSITION SUMMARY: The Dat...</td>\n",
       "      <td>[Agile, Airflow, APIs, AWS, CI/CD, Computer Sc...</td>\n",
       "      <td>16</td>\n",
       "    </tr>\n",
       "  </tbody>\n",
       "</table>\n",
       "</div>"
      ],
      "text/plain": [
       "                                                 url  \\\n",
       "0  https://ai-jobs.net/job/32218-data-science-con...   \n",
       "1  https://ai-jobs.net/job/32029-python-php-senio...   \n",
       "2  https://ai-jobs.net/job/30723-data-scientist-r...   \n",
       "3  https://ai-jobs.net/job/30166-postdoctoral-res...   \n",
       "4  https://ai-jobs.net/job/30091-data-science-and...   \n",
       "\n",
       "                                               title  \\\n",
       "0  View full details of `Data Science Content Int...   \n",
       "1  View full details of `Python / PHP Senior Deve...   \n",
       "2  View full details of `Data Scientist - Researc...   \n",
       "3  View full details of `Postdoctoral Research As...   \n",
       "4  View full details of `Data Science and Machine...   \n",
       "\n",
       "                             location        type         level  \\\n",
       "0                              Remote  Internship   Entry-level   \n",
       "1                          Remote, EU   Full Time  Senior-level   \n",
       "2  Remote, Hybrid Available (Chicago)   Full Time  Senior-level   \n",
       "3        Oak Ridge, TN, United States   Temporary     Mid-level   \n",
       "4                         Remote- USA   Full Time  Senior-level   \n",
       "\n",
       "       salaryRange  salary                        company  minSalary  \\\n",
       "0     USD 9K - 11K     NaN                        NannyML     9000.0   \n",
       "1    EUR 65K - 80K     NaN                       Beatopia        NaN   \n",
       "2   USD 55K - 120K     NaN                      HFR, Inc.    55000.0   \n",
       "3              NaN     NaN  Oak Ridge National Laboratory        NaN   \n",
       "4  USD 150K - 200K     NaN               Libertas Funding   150000.0   \n",
       "\n",
       "   maxSalary currency salaryPeriod  \\\n",
       "0    11000.0      USD         YEAR   \n",
       "1        NaN      NaN          NaN   \n",
       "2   120000.0      USD         YEAR   \n",
       "3        NaN      NaN          NaN   \n",
       "4   200000.0      USD         YEAR   \n",
       "\n",
       "                                            position           datePosted  \\\n",
       "0               Data Science Content Intern (Remote)  2022-11-09 22:55:46   \n",
       "1                                                NaN                  NaN   \n",
       "2  Data Scientist - Research, Development &amp; C...  2022-10-26 20:46:21   \n",
       "3  Postdoctoral Research Associate - Boundary Pla...  2022-10-21 20:53:22   \n",
       "4          Data Science and Machine Learning Manager  2022-10-21 02:15:41   \n",
       "\n",
       "          validThrough                                     jobDescription  \\\n",
       "0  2022-12-24 00:00:00  Description NannyML - creators of an Open Sour...   \n",
       "1                  NaN                                                NaN   \n",
       "2  2022-12-10 00:00:00    Company Description:  HFR, Inc. (HFR) was fo...   \n",
       "3  2022-12-05 00:00:00  Overview:  Oak Ridge National Laboratory is th...   \n",
       "4  2022-12-05 00:00:00   USA Remote Position POSITION SUMMARY: The Dat...   \n",
       "\n",
       "                                              skills  nSkills  \n",
       "0  [Bayesian, Content creation, GitHub, Machine L...       12  \n",
       "1  [APIs, GCP, Google Cloud, Machine Learning, PH...        7  \n",
       "2  [Computer Science, Data Analytics, Data visual...       14  \n",
       "3  [CAD, Engineering, Matlab, Physics, Python, Re...        7  \n",
       "4  [Agile, Airflow, APIs, AWS, CI/CD, Computer Sc...       16  "
      ]
     },
     "execution_count": 24,
     "metadata": {},
     "output_type": "execute_result"
    }
   ],
   "source": [
    "df.head()"
   ]
  },
  {
   "cell_type": "code",
   "execution_count": 26,
   "id": "87cd0ae0",
   "metadata": {},
   "outputs": [
    {
     "data": {
      "text/plain": [
       "<AxesSubplot: xlabel='nSkills', ylabel='maxSalary'>"
      ]
     },
     "execution_count": 26,
     "metadata": {},
     "output_type": "execute_result"
    },
    {
     "data": {
      "image/png": "[encoded data removed]",
      "text/plain": [
       "<Figure size 432x288 with 1 Axes>"
      ]
     },
     "metadata": {
      "needs_background": "light"
     },
     "output_type": "display_data"
    }
   ],
   "source": [
    "sns.scatterplot(data=df, x=\"nSkills\", y=\"maxSalary\")"
   ]
  },
  {
   "cell_type": "markdown",
   "id": "0d7f342b",
   "metadata": {},
   "source": [
    "## Skills"
   ]
  },
  {
   "cell_type": "code",
   "execution_count": 25,
   "id": "9108c812",
   "metadata": {},
   "outputs": [
    {
     "data": {
      "text/plain": [
       "0       ['Bayesian', 'Content creation', 'GitHub', 'Ma...\n",
       "1       ['APIs', 'GCP', 'Google Cloud', 'Machine Learn...\n",
       "2       ['Computer Science', 'Data Analytics', 'Data v...\n",
       "3       ['CAD', 'Engineering', 'Matlab', 'Physics', 'P...\n",
       "4       ['Agile', 'Airflow', 'APIs', 'AWS', 'CI/CD', '...\n",
       "                              ...                        \n",
       "3749                      ['Data management', 'Security']\n",
       "3750    ['Airflow', 'Dataproc', 'ELT', 'ETL', 'GCP', '...\n",
       "3751    ['Machine Learning', 'Mathematics', 'NLP', 'Py...\n",
       "3752    ['Big Data', 'Git', 'OOP', 'Research', 'SQL', ...\n",
       "3753    ['Big Data', 'Blockchain', 'Computer Science',...\n",
       "Name: skills, Length: 3754, dtype: object"
      ]
     },
     "execution_count": 25,
     "metadata": {},
     "output_type": "execute_result"
    }
   ],
   "source": [
    "df['skills']"
   ]
  },
  {
   "cell_type": "code",
   "execution_count": 26,
   "id": "299b46b5",
   "metadata": {},
   "outputs": [],
   "source": [
    "all_skills = df['skills'].apply(eval)"
   ]
  },
  {
   "cell_type": "code",
   "execution_count": 27,
   "id": "cecd132b",
   "metadata": {},
   "outputs": [
    {
     "data": {
      "text/plain": [
       "0       [Bayesian, Content creation, GitHub, Machine L...\n",
       "1       [APIs, GCP, Google Cloud, Machine Learning, PH...\n",
       "2       [Computer Science, Data Analytics, Data visual...\n",
       "3       [CAD, Engineering, Matlab, Physics, Python, Re...\n",
       "4       [Agile, Airflow, APIs, AWS, CI/CD, Computer Sc...\n",
       "                              ...                        \n",
       "3749                          [Data management, Security]\n",
       "3750    [Airflow, Dataproc, ELT, ETL, GCP, Pipelines, ...\n",
       "3751    [Machine Learning, Mathematics, NLP, Python, R...\n",
       "3752            [Big Data, Git, OOP, Research, SQL, STEM]\n",
       "3753    [Big Data, Blockchain, Computer Science, Crypt...\n",
       "Name: skills, Length: 3754, dtype: object"
      ]
     },
     "execution_count": 27,
     "metadata": {},
     "output_type": "execute_result"
    }
   ],
   "source": [
    "all_skills"
   ]
  },
  {
   "cell_type": "code",
   "execution_count": 28,
   "id": "cb419539",
   "metadata": {},
   "outputs": [],
   "source": [
    "def to_1D(series):\n",
    "    return pd.Series([x for _list in series for x in _list])"
   ]
  },
  {
   "cell_type": "code",
   "execution_count": 29,
   "id": "6db50be9",
   "metadata": {},
   "outputs": [
    {
     "data": {
      "text/plain": [
       "Python              2442\n",
       "Engineering         2166\n",
       "SQL                 1992\n",
       "Machine Learning    1739\n",
       "Computer Science    1406\n",
       "                    ... \n",
       "AI governance          1\n",
       "Markov Chain           1\n",
       "Speech synthesis       1\n",
       "Postdoc                1\n",
       "Arrow                  1\n",
       "Length: 302, dtype: int64"
      ]
     },
     "execution_count": 29,
     "metadata": {},
     "output_type": "execute_result"
    }
   ],
   "source": [
    "to_1D(all_skills).value_counts()"
   ]
  },
  {
   "cell_type": "code",
   "execution_count": 37,
   "id": "a5b2eee2",
   "metadata": {},
   "outputs": [],
   "source": [
    "sk = to_1D(all_skills).value_counts().to_frame()"
   ]
  },
  {
   "cell_type": "code",
   "execution_count": 39,
   "id": "c00550e9",
   "metadata": {},
   "outputs": [],
   "source": [
    "sk.rename(columns={0:'Frequency'}, inplace=True)"
   ]
  },
  {
   "cell_type": "code",
   "execution_count": 47,
   "id": "6fb4e0f8",
   "metadata": {},
   "outputs": [
    {
     "data": {
      "text/html": [
       "<div>\n",
       "<style scoped>\n",
       "    .dataframe tbody tr th:only-of-type {\n",
       "        vertical-align: middle;\n",
       "    }\n",
       "\n",
       "    .dataframe tbody tr th {\n",
       "        vertical-align: top;\n",
       "    }\n",
       "\n",
       "    .dataframe thead th {\n",
       "        text-align: right;\n",
       "    }\n",
       "</style>\n",
       "<table border=\"1\" class=\"dataframe\">\n",
       "  <thead>\n",
       "    <tr style=\"text-align: right;\">\n",
       "      <th></th>\n",
       "      <th>Skill</th>\n",
       "      <th>Frequency</th>\n",
       "    </tr>\n",
       "  </thead>\n",
       "  <tbody>\n",
       "    <tr>\n",
       "      <th>0</th>\n",
       "      <td>Python</td>\n",
       "      <td>2442</td>\n",
       "    </tr>\n",
       "    <tr>\n",
       "      <th>1</th>\n",
       "      <td>Engineering</td>\n",
       "      <td>2166</td>\n",
       "    </tr>\n",
       "    <tr>\n",
       "      <th>2</th>\n",
       "      <td>SQL</td>\n",
       "      <td>1992</td>\n",
       "    </tr>\n",
       "    <tr>\n",
       "      <th>3</th>\n",
       "      <td>Machine Learning</td>\n",
       "      <td>1739</td>\n",
       "    </tr>\n",
       "    <tr>\n",
       "      <th>4</th>\n",
       "      <td>Computer Science</td>\n",
       "      <td>1406</td>\n",
       "    </tr>\n",
       "    <tr>\n",
       "      <th>...</th>\n",
       "      <td>...</td>\n",
       "      <td>...</td>\n",
       "    </tr>\n",
       "    <tr>\n",
       "      <th>297</th>\n",
       "      <td>AI governance</td>\n",
       "      <td>1</td>\n",
       "    </tr>\n",
       "    <tr>\n",
       "      <th>298</th>\n",
       "      <td>Markov Chain</td>\n",
       "      <td>1</td>\n",
       "    </tr>\n",
       "    <tr>\n",
       "      <th>299</th>\n",
       "      <td>Speech synthesis</td>\n",
       "      <td>1</td>\n",
       "    </tr>\n",
       "    <tr>\n",
       "      <th>300</th>\n",
       "      <td>Postdoc</td>\n",
       "      <td>1</td>\n",
       "    </tr>\n",
       "    <tr>\n",
       "      <th>301</th>\n",
       "      <td>Arrow</td>\n",
       "      <td>1</td>\n",
       "    </tr>\n",
       "  </tbody>\n",
       "</table>\n",
       "<p>302 rows × 2 columns</p>\n",
       "</div>"
      ],
      "text/plain": [
       "                Skill  Frequency\n",
       "0              Python       2442\n",
       "1         Engineering       2166\n",
       "2                 SQL       1992\n",
       "3    Machine Learning       1739\n",
       "4    Computer Science       1406\n",
       "..                ...        ...\n",
       "297     AI governance          1\n",
       "298      Markov Chain          1\n",
       "299  Speech synthesis          1\n",
       "300           Postdoc          1\n",
       "301             Arrow          1\n",
       "\n",
       "[302 rows x 2 columns]"
      ]
     },
     "execution_count": 47,
     "metadata": {},
     "output_type": "execute_result"
    }
   ],
   "source": [
    "sk"
   ]
  },
  {
   "cell_type": "code",
   "execution_count": 42,
   "id": "9324ab65",
   "metadata": {},
   "outputs": [],
   "source": [
    "sk.index.names = ['Skill']"
   ]
  },
  {
   "cell_type": "code",
   "execution_count": 46,
   "id": "7e633574",
   "metadata": {},
   "outputs": [],
   "source": [
    "sk.reset_index(inplace=True)"
   ]
  },
  {
   "cell_type": "code",
   "execution_count": 32,
   "id": "bfb7dd43",
   "metadata": {},
   "outputs": [],
   "source": [
    "import seaborn as sns"
   ]
  },
  {
   "cell_type": "code",
   "execution_count": 33,
   "id": "71343640",
   "metadata": {},
   "outputs": [],
   "source": [
    "sns.set_theme(style='darkgrid')\n"
   ]
  },
  {
   "cell_type": "code",
   "execution_count": 52,
   "id": "2b8bb9bf",
   "metadata": {},
   "outputs": [],
   "source": [
    "import matplotlib.pylab as plt"
   ]
  },
  {
   "cell_type": "code",
   "execution_count": 54,
   "id": "e3ee6a9c",
   "metadata": {},
   "outputs": [
    {
     "data": {
      "text/plain": [
       "(array([ 0,  1,  2,  3,  4,  5,  6,  7,  8,  9, 10, 11, 12, 13, 14, 15, 16,\n",
       "        17, 18, 19]),\n",
       " [Text(0, 0, 'Python'),\n",
       "  Text(1, 0, 'Engineering'),\n",
       "  Text(2, 0, 'SQL'),\n",
       "  Text(3, 0, 'Machine Learning'),\n",
       "  Text(4, 0, 'Computer Science'),\n",
       "  Text(5, 0, 'Research'),\n",
       "  Text(6, 0, 'Pipelines'),\n",
       "  Text(7, 0, 'AWS'),\n",
       "  Text(8, 0, 'Statistics'),\n",
       "  Text(9, 0, 'R'),\n",
       "  Text(10, 0, 'Spark'),\n",
       "  Text(11, 0, 'Big Data'),\n",
       "  Text(12, 0, 'Testing'),\n",
       "  Text(13, 0, 'Tableau'),\n",
       "  Text(14, 0, 'ETL'),\n",
       "  Text(15, 0, 'Agile'),\n",
       "  Text(16, 0, 'Data pipelines'),\n",
       "  Text(17, 0, 'Data analysis'),\n",
       "  Text(18, 0, 'Mathematics'),\n",
       "  Text(19, 0, 'Data Analytics')])"
      ]
     },
     "execution_count": 54,
     "metadata": {},
     "output_type": "execute_result"
    },
    {
     "data": {
      "image/png": "[encoded data removed]",
      "text/plain": [
       "<Figure size 432x288 with 1 Axes>"
      ]
     },
     "metadata": {},
     "output_type": "display_data"
    }
   ],
   "source": [
    "# Самые частые\n",
    "sns.barplot(data=sk[0:20], x='Skill', y='Frequency')\n",
    "plt.xticks(rotation=90)"
   ]
  },
  {
   "cell_type": "code",
   "execution_count": 55,
   "id": "2f48d5b5",
   "metadata": {},
   "outputs": [
    {
     "data": {
      "text/plain": [
       "(array([ 0,  1,  2,  3,  4,  5,  6,  7,  8,  9, 10, 11, 12, 13, 14, 15, 16,\n",
       "        17, 18]),\n",
       " [Text(0, 0, 'GNSS'),\n",
       "  Text(1, 0, 'C#'),\n",
       "  Text(2, 0, 'AIStats'),\n",
       "  Text(3, 0, 'NLG'),\n",
       "  Text(4, 0, 'Weka'),\n",
       "  Text(5, 0, 'DALL-E'),\n",
       "  Text(6, 0, 'HiveQL'),\n",
       "  Text(7, 0, 'GPL'),\n",
       "  Text(8, 0, 'ggplot2'),\n",
       "  Text(9, 0, 'CockroachDB'),\n",
       "  Text(10, 0, 'Clinical NLP'),\n",
       "  Text(11, 0, 'RapidMiner'),\n",
       "  Text(12, 0, 'Visual SLAM'),\n",
       "  Text(13, 0, 'CBIP'),\n",
       "  Text(14, 0, 'Minitab'),\n",
       "  Text(15, 0, 'AI governance'),\n",
       "  Text(16, 0, 'Markov Chain'),\n",
       "  Text(17, 0, 'Speech synthesis'),\n",
       "  Text(18, 0, 'Postdoc')])"
      ]
     },
     "execution_count": 55,
     "metadata": {},
     "output_type": "execute_result"
    },
    {
     "data": {
      "image/png": "[encoded data removed]",
      "text/plain": [
       "<Figure size 432x288 with 1 Axes>"
      ]
     },
     "metadata": {},
     "output_type": "display_data"
    }
   ],
   "source": [
    "# Самые редкие\n",
    "sns.barplot(data=sk[-20:-1], x='Skill', y='Frequency')\n",
    "plt.xticks(rotation=90)"
   ]
  },
  {
   "cell_type": "code",
   "execution_count": 56,
   "id": "63e5c3e4",
   "metadata": {},
   "outputs": [],
   "source": [
    "from wordcloud import WordCloud"
   ]
  },
  {
   "cell_type": "code",
   "execution_count": 62,
   "id": "b7ca34fc",
   "metadata": {},
   "outputs": [],
   "source": [
    "sk_str = ''\n",
    "for s in sk['Skill'].to_list():\n",
    "    sk_str = sk_str + s + ' '"
   ]
  },
  {
   "cell_type": "code",
   "execution_count": 64,
   "id": "67fa02f1",
   "metadata": {},
   "outputs": [
    {
     "data": {
      "image/png": "[encoded data removed]",
      "text/plain": [
       "<Figure size 432x288 with 1 Axes>"
      ]
     },
     "metadata": {},
     "output_type": "display_data"
    }
   ],
   "source": [
    "# Create and generate a word cloud image:\n",
    "wordcloud = WordCloud().generate(sk_str)\n",
    "\n",
    "# Display the generated image:\n",
    "plt.imshow(wordcloud, interpolation='bilinear')\n",
    "plt.axis(\"off\")\n",
    "plt.show()"
   ]
  }
 ],
 "metadata": {
  "kernelspec": {
   "display_name": "Python 3 (ipykernel)",
   "language": "python",
   "name": "python3"
  },
  "language_info": {
   "codemirror_mode": {
    "name": "ipython",
    "version": 3
   },
   "file_extension": ".py",
   "mimetype": "text/x-python",
   "name": "python",
   "nbconvert_exporter": "python",
   "pygments_lexer": "ipython3",
   "version": "3.9.6"
  }
 },
 "nbformat": 4,
 "nbformat_minor": 5
}
